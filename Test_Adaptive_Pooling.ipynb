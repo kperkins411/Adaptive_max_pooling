{
 "cells": [
  {
   "cell_type": "markdown",
   "metadata": {},
   "source": [
    "# Introduction\n",
    "A study of Adaptive max pooling"
   ]
  },
  {
   "cell_type": "markdown",
   "metadata": {},
   "source": [
    "### Imports\n",
    "Import libraries and write settings here."
   ]
  },
  {
   "cell_type": "code",
   "execution_count": 6,
   "metadata": {},
   "outputs": [
    {
     "data": {
      "text/html": [
       "<script type=\"text/javascript\">window.PlotlyConfig = {MathJaxConfig: 'local'};</script><script type=\"text/javascript\">if (window.MathJax) {MathJax.Hub.Config({SVG: {font: \"STIX-Web\"}});}</script><script>requirejs.config({paths: { 'plotly': ['https://cdn.plot.ly/plotly-latest.min']},});if(!window._Plotly) {require(['plotly'],function(plotly) {window._Plotly=plotly;});}</script>"
      ],
      "text/vnd.plotly.v1+html": [
       "<script type=\"text/javascript\">window.PlotlyConfig = {MathJaxConfig: 'local'};</script><script type=\"text/javascript\">if (window.MathJax) {MathJax.Hub.Config({SVG: {font: \"STIX-Web\"}});}</script><script>requirejs.config({paths: { 'plotly': ['https://cdn.plot.ly/plotly-latest.min']},});if(!window._Plotly) {require(['plotly'],function(plotly) {window._Plotly=plotly;});}</script>"
      ]
     },
     "metadata": {},
     "output_type": "display_data"
    }
   ],
   "source": [
    "# Data manipulation\n",
    "import pandas as pd\n",
    "import numpy as np\n",
    "\n",
    "# Options for pandas\n",
    "pd.options.display.max_columns = 50\n",
    "pd.options.display.max_rows = 30\n",
    "\n",
    "# Display all cell outputs\n",
    "from IPython.core.interactiveshell import InteractiveShell\n",
    "InteractiveShell.ast_node_interactivity = 'all'\n",
    "\n",
    "from IPython import get_ipython\n",
    "ipython = get_ipython()\n",
    "\n",
    "# autoreload extension\n",
    "if 'autoreload' not in ipython.extension_manager.loaded:\n",
    "    %load_ext autoreload\n",
    "\n",
    "%autoreload 2\n",
    "\n",
    "# Visualizations\n",
    "import plotly.plotly as py\n",
    "import plotly.graph_objs as go\n",
    "from plotly.offline import iplot, init_notebook_mode\n",
    "init_notebook_mode(connected=True)\n",
    "\n",
    "import torch.nn as nn\n",
    "import torch.nn.functional as F\n",
    "\n",
    "import torch\n",
    "import torchvision\n",
    "import torchvision.transforms as transforms\n",
    "# import utils\n",
    "from tensorboardX import SummaryWriter\n",
    "import models\n",
    "from train import get_transforms\n",
    "from glob import glob\n",
    "import time\n",
    "import settings as s\n",
    "import train as trn\n",
    "import models"
   ]
  },
  {
   "cell_type": "markdown",
   "metadata": {},
   "source": [
    "# Analysis/Modeling\n",
    "Do work here"
   ]
  },
  {
   "cell_type": "code",
   "execution_count": 3,
   "metadata": {},
   "outputs": [
    {
     "data": {
      "text/plain": [
       "device(type='cuda', index=0)"
      ]
     },
     "execution_count": 3,
     "metadata": {},
     "output_type": "execute_result"
    }
   ],
   "source": [
    "# using GPU?\n",
    "device = torch.device(\"cuda:0\" if torch.cuda.is_available() else \"cpu\")\n",
    "device"
   ]
  },
  {
   "cell_type": "markdown",
   "metadata": {},
   "source": [
    "## Choose a network type\n"
   ]
  },
  {
   "cell_type": "code",
   "execution_count": 7,
   "metadata": {},
   "outputs": [],
   "source": [
    "## choose which network to use\n",
    "# net = Net()\n",
    "#path =\"./model_weightsN.pth\"\n",
    "\n",
    "# net = models.Net_adaptive_pool_Small()\n",
    "# path =\"./model_weightsNAPS.pth\"\n",
    "\n",
    "net = models.Net_adaptive_pool()\n",
    "path =\"./model_weights_NAP.pth\"\n",
    "\n",
    "# load trained weights if there\n",
    "try:\n",
    "    net.load_state_dict(torch.load(path))\n",
    "except FileNotFoundError:\n",
    "    print(\"File \" + s.PATH + \" not present, you MUST retrain before you can test\")\n",
    "    \n",
    "#Cuda or CPU?\n",
    "net.to(device);"
   ]
  },
  {
   "cell_type": "markdown",
   "metadata": {},
   "source": [
    "## Train the network"
   ]
  },
  {
   "cell_type": "code",
   "execution_count": 8,
   "metadata": {},
   "outputs": [],
   "source": [
    "NUMB_EPOCHS = 5"
   ]
  },
  {
   "cell_type": "code",
   "execution_count": 9,
   "metadata": {},
   "outputs": [
    {
     "name": "stdout",
     "output_type": "stream",
     "text": [
      "type of net is <class 'models.Net_adaptive_pool'>\n",
      "\n",
      "Files already downloaded and verified\n",
      "Files already downloaded and verified\n",
      "Training loss: 0.003  accuracy: 0.713 Testing loss: 0.004  accuracy: 0.654\n",
      "Training loss: 0.003  accuracy: 0.713 Testing loss: 0.004  accuracy: 0.656\n",
      "Training loss: 0.003  accuracy: 0.712 Testing loss: 0.004  accuracy: 0.657\n",
      "Training loss: 0.003  accuracy: 0.711 Testing loss: 0.004  accuracy: 0.656\n",
      "Training loss: 0.003  accuracy: 0.716 Testing loss: 0.004  accuracy: 0.657\n",
      "Finished Training\n"
     ]
    }
   ],
   "source": [
    "# Define a Loss function and optimizer\n",
    "# Let's use a Classification Cross-Entropy loss and SGD with momentum.\n",
    "import torch.optim as optim\n",
    "criterion = nn.CrossEntropyLoss()\n",
    "optimizer = optim.SGD(net.parameters(), lr=0.001, momentum=0.9)\n",
    "\n",
    "#train and test\n",
    "net.train()\n",
    "net.to(device)\n",
    "print(\"type of net is \" + str(type(net)) + \"\\n\")\n",
    "trn.train_test(net, criterion, optimizer,device, numEpochs = NUMB_EPOCHS, path =path);"
   ]
  },
  {
   "cell_type": "markdown",
   "metadata": {},
   "source": [
    "# Results\n",
    "Show graphs and stats here"
   ]
  },
  {
   "cell_type": "markdown",
   "metadata": {},
   "source": [
    "### Accuracy for each class in Test Set"
   ]
  },
  {
   "cell_type": "code",
   "execution_count": 10,
   "metadata": {},
   "outputs": [
    {
     "data": {
      "text/plain": [
       "Net_adaptive_pool(\n",
       "  (conv1): Conv2d(3, 10, kernel_size=(3, 3), stride=(1, 1), padding=(1, 1))\n",
       "  (pool): MaxPool2d(kernel_size=2, stride=2, padding=0, dilation=1, ceil_mode=False)\n",
       "  (conv2): Conv2d(10, 10, kernel_size=(3, 3), stride=(1, 1))\n",
       "  (adaptive_mp2d): AdaptiveMaxPool2d(output_size=(5, 5))\n",
       "  (fc1): Linear(in_features=250, out_features=50, bias=True)\n",
       "  (fc2): Linear(in_features=50, out_features=10, bias=True)\n",
       ")"
      ]
     },
     "execution_count": 10,
     "metadata": {},
     "output_type": "execute_result"
    },
    {
     "name": "stdout",
     "output_type": "stream",
     "text": [
      "type of net is <class 'models.Net_adaptive_pool'>\n",
      "\n",
      "Files already downloaded and verified\n",
      "Files already downloaded and verified\n",
      "Accuracy of plane : 83 %\n",
      "Accuracy of   car : 100 %\n",
      "Accuracy of  bird : 50 %\n",
      "Accuracy of   cat : 25 %\n",
      "Accuracy of  deer : 50 %\n",
      "Accuracy of   dog : 44 %\n",
      "Accuracy of  frog : 60 %\n",
      "Accuracy of horse : 80 %\n",
      "Accuracy of  ship : 70 %\n",
      "Accuracy of truck : 85 %\n"
     ]
    }
   ],
   "source": [
    "net.eval()  # going to eval\n",
    "\n",
    "print(\"type of net is \" + str(type(net)) + \"\\n\")\n",
    "trn.check_each_class_accuracy(net, device)"
   ]
  },
  {
   "cell_type": "markdown",
   "metadata": {},
   "source": [
    "### Accuracy on unseen class instances"
   ]
  },
  {
   "cell_type": "code",
   "execution_count": 11,
   "metadata": {},
   "outputs": [],
   "source": [
    "#set up network\n",
    "device = \"cpu\"\n",
    "net.to(device);# ; keeps this statement from priniting out the net config\n",
    "net.eval();  # going to eval\n",
    "\n",
    "filelist = glob(s.where_diff_sized_images_are + \"*.jpg\");"
   ]
  },
  {
   "cell_type": "markdown",
   "metadata": {},
   "source": [
    "#### Fullsize Images"
   ]
  },
  {
   "cell_type": "code",
   "execution_count": 14,
   "metadata": {},
   "outputs": [
    {
     "name": "stdout",
     "output_type": "stream",
     "text": [
      "Evaluate original size\n",
      "for image ./diff_sized/deer1.jpg the network predicted bird\n",
      "for image ./diff_sized/deer2.jpg the network predicted bird\n",
      "for image ./diff_sized/dog1.jpg the network predicted bird\n",
      "for image ./diff_sized/dog2.jpg the network predicted bird\n",
      "for image ./diff_sized/cat2.jpg the network predicted bird\n",
      "for image ./diff_sized/car2.jpg the network predicted bird\n",
      "for image ./diff_sized/cat1.jpg the network predicted bird\n",
      "for image ./diff_sized/ship2.jpg the network predicted plane\n",
      "for image ./diff_sized/plane2.jpg the network predicted plane\n",
      "for image ./diff_sized/horse1.jpg the network predicted bird\n",
      "for image ./diff_sized/bird2.jpg the network predicted bird\n",
      "for image ./diff_sized/ship1.jpg the network predicted ship\n",
      "for image ./diff_sized/horse2.jpg the network predicted dog\n",
      "\n",
      "Inference took 1.4318373203277588 seconds\n",
      "Network accuracy = 0.23076923076923078\n",
      "\n"
     ]
    }
   ],
   "source": [
    "print(\"Evaluate original size\");\n",
    "from test_on_diff_sized_files import evaluate_dir;\n",
    "evaluate_dir(filelist,net);"
   ]
  },
  {
   "cell_type": "markdown",
   "metadata": {},
   "source": [
    "#### 32x32 images (reduced from fullsize)\n",
    "This is the size the network was trained on, this should be lower than above since we are losing information when downsampling the image"
   ]
  },
  {
   "cell_type": "code",
   "execution_count": 15,
   "metadata": {},
   "outputs": [
    {
     "name": "stdout",
     "output_type": "stream",
     "text": [
      "for image ./diff_sized/deer1.jpg the network predicted deer\n",
      "for image ./diff_sized/deer2.jpg the network predicted deer\n",
      "for image ./diff_sized/dog1.jpg the network predicted bird\n",
      "for image ./diff_sized/dog2.jpg the network predicted bird\n",
      "for image ./diff_sized/cat2.jpg the network predicted dog\n",
      "for image ./diff_sized/car2.jpg the network predicted car\n",
      "for image ./diff_sized/cat1.jpg the network predicted cat\n",
      "for image ./diff_sized/ship2.jpg the network predicted ship\n",
      "for image ./diff_sized/plane2.jpg the network predicted plane\n",
      "for image ./diff_sized/horse1.jpg the network predicted deer\n",
      "for image ./diff_sized/bird2.jpg the network predicted bird\n",
      "for image ./diff_sized/ship1.jpg the network predicted ship\n",
      "for image ./diff_sized/horse2.jpg the network predicted horse\n",
      "\n",
      "Inference took 0.05644536018371582 seconds\n",
      "Network accuracy = 0.6923076923076923\n",
      "\n"
     ]
    }
   ],
   "source": [
    "# Shrink images to 32,32 (orig cifar10 size) and evaluate\n",
    "# accuracy should fall since we lost information when shrinking images\n",
    "evaluate_dir(filelist, net, size = (32,32))"
   ]
  },
  {
   "cell_type": "markdown",
   "metadata": {},
   "source": [
    "# Conclusions and Next Steps\n",
    "Summarize findings here"
   ]
  },
  {
   "cell_type": "code",
   "execution_count": null,
   "metadata": {},
   "outputs": [],
   "source": []
  }
 ],
 "metadata": {
  "kernelspec": {
   "display_name": "Python 3",
   "language": "python",
   "name": "python3"
  },
  "language_info": {
   "codemirror_mode": {
    "name": "ipython",
    "version": 3
   },
   "file_extension": ".py",
   "mimetype": "text/x-python",
   "name": "python",
   "nbconvert_exporter": "python",
   "pygments_lexer": "ipython3",
   "version": "3.6.6"
  },
  "toc": {
   "base_numbering": 1,
   "nav_menu": {},
   "number_sections": true,
   "sideBar": true,
   "skip_h1_title": false,
   "title_cell": "Table of Contents",
   "title_sidebar": "Contents",
   "toc_cell": false,
   "toc_position": {},
   "toc_section_display": true,
   "toc_window_display": true
  },
  "varInspector": {
   "cols": {
    "lenName": 16,
    "lenType": 16,
    "lenVar": 40
   },
   "kernels_config": {
    "python": {
     "delete_cmd_postfix": "",
     "delete_cmd_prefix": "del ",
     "library": "var_list.py",
     "varRefreshCmd": "print(var_dic_list())"
    },
    "r": {
     "delete_cmd_postfix": ") ",
     "delete_cmd_prefix": "rm(",
     "library": "var_list.r",
     "varRefreshCmd": "cat(var_dic_list()) "
    }
   },
   "types_to_exclude": [
    "module",
    "function",
    "builtin_function_or_method",
    "instance",
    "_Feature"
   ],
   "window_display": true
  }
 },
 "nbformat": 4,
 "nbformat_minor": 2
}
