{
 "cells": [
  {
   "cell_type": "markdown",
   "metadata": {
    "heading_collapsed": true
   },
   "source": [
    "# Introduction\n",
    "A study of Adaptive max pooling"
   ]
  },
  {
   "cell_type": "markdown",
   "metadata": {
    "hidden": true
   },
   "source": [
    "### Imports\n",
    "Import libraries and write settings here."
   ]
  },
  {
   "cell_type": "code",
   "execution_count": 10,
   "metadata": {
    "hidden": true
   },
   "outputs": [
    {
     "data": {
      "text/html": [
       "<script type=\"text/javascript\">window.PlotlyConfig = {MathJaxConfig: 'local'};</script><script type=\"text/javascript\">if (window.MathJax) {MathJax.Hub.Config({SVG: {font: \"STIX-Web\"}});}</script><script>requirejs.config({paths: { 'plotly': ['https://cdn.plot.ly/plotly-latest.min']},});if(!window._Plotly) {require(['plotly'],function(plotly) {window._Plotly=plotly;});}</script>"
      ],
      "text/vnd.plotly.v1+html": [
       "<script type=\"text/javascript\">window.PlotlyConfig = {MathJaxConfig: 'local'};</script><script type=\"text/javascript\">if (window.MathJax) {MathJax.Hub.Config({SVG: {font: \"STIX-Web\"}});}</script><script>requirejs.config({paths: { 'plotly': ['https://cdn.plot.ly/plotly-latest.min']},});if(!window._Plotly) {require(['plotly'],function(plotly) {window._Plotly=plotly;});}</script>"
      ]
     },
     "metadata": {},
     "output_type": "display_data"
    }
   ],
   "source": [
    "# Data manipulation\n",
    "import pandas as pd\n",
    "import numpy as np\n",
    "\n",
    "# Options for pandas\n",
    "pd.options.display.max_columns = 50\n",
    "pd.options.display.max_rows = 30\n",
    "\n",
    "# Display all cell outputs\n",
    "from IPython.core.interactiveshell import InteractiveShell\n",
    "InteractiveShell.ast_node_interactivity = 'all'\n",
    "\n",
    "from IPython import get_ipython\n",
    "ipython = get_ipython()\n",
    "\n",
    "# autoreload extension\n",
    "if 'autoreload' not in ipython.extension_manager.loaded:\n",
    "    %load_ext autoreload\n",
    "\n",
    "%autoreload 2\n",
    "\n",
    "# Visualizations\n",
    "import plotly.plotly as py\n",
    "import plotly.graph_objs as go\n",
    "from plotly.offline import iplot, init_notebook_mode\n",
    "init_notebook_mode(connected=True)\n",
    "\n",
    "import torch.nn as nn\n",
    "import torch.nn.functional as F\n",
    "\n",
    "import torch\n",
    "import torchvision\n",
    "import torchvision.transforms as transforms\n",
    "import utils\n",
    "from tensorboardX import SummaryWriter\n",
    "from train import Net_adaptive_pool,get_transforms\n",
    "from glob import glob\n",
    "import time\n",
    "import settings as s\n",
    "import train as trn"
   ]
  },
  {
   "cell_type": "markdown",
   "metadata": {},
   "source": [
    "# Analysis/Modeling\n",
    "Do work here"
   ]
  },
  {
   "cell_type": "code",
   "execution_count": 22,
   "metadata": {},
   "outputs": [
    {
     "data": {
      "text/plain": [
       "device(type='cuda', index=0)"
      ]
     },
     "execution_count": 22,
     "metadata": {},
     "output_type": "execute_result"
    }
   ],
   "source": [
    "# using GPU?\n",
    "device = torch.device(\"cuda:0\" if torch.cuda.is_available() else \"cpu\")\n",
    "device"
   ]
  },
  {
   "cell_type": "markdown",
   "metadata": {},
   "source": [
    "## Choose a network type\n"
   ]
  },
  {
   "cell_type": "code",
   "execution_count": 51,
   "metadata": {},
   "outputs": [
    {
     "name": "stdout",
     "output_type": "stream",
     "text": [
      "File ./model_weights.pth not present, you MUST retrain before you can test\n"
     ]
    },
    {
     "data": {
      "text/plain": [
       "Net_adaptive_pool_Small(\n",
       "  (conv1): Conv2d(3, 10, kernel_size=(3, 3), stride=(1, 1), padding=(1, 1))\n",
       "  (pool): MaxPool2d(kernel_size=2, stride=2, padding=0, dilation=1, ceil_mode=False)\n",
       "  (conv2): Conv2d(10, 10, kernel_size=(3, 3), stride=(1, 1))\n",
       "  (adaptive_mp2d): AdaptiveMaxPool2d(output_size=(1, 1))\n",
       "  (fc1): Linear(in_features=10, out_features=10, bias=True)\n",
       "  (fc2): Linear(in_features=50, out_features=10, bias=True)\n",
       ")"
      ]
     },
     "execution_count": 51,
     "metadata": {},
     "output_type": "execute_result"
    }
   ],
   "source": [
    "## choose which network to use\n",
    "# net = Net()\n",
    "#path =\"./model_weightsN.pth\"\n",
    "\n",
    "net = trn.Net_adaptive_pool_Small()\n",
    "path =\"./model_weightsNAPS.pth\"\n",
    "\n",
    "# net = trn.Net_adaptive_pool()\n",
    "# path =\"./model_weights_NAP.pth\"\n",
    "\n",
    "# load trained weights if there\n",
    "try:\n",
    "    net.load_state_dict(torch.load(path))\n",
    "except FileNotFoundError:\n",
    "    print(\"File \" + s.PATH + \" not present, you MUST retrain before you can test\")\n",
    "    \n",
    "#Cuda or CPU?\n",
    "net.to(device)"
   ]
  },
  {
   "cell_type": "markdown",
   "metadata": {},
   "source": [
    "## Train the network"
   ]
  },
  {
   "cell_type": "code",
   "execution_count": 52,
   "metadata": {},
   "outputs": [],
   "source": [
    "NUMB_EPOCHS = 35"
   ]
  },
  {
   "cell_type": "code",
   "execution_count": null,
   "metadata": {},
   "outputs": [
    {
     "data": {
      "text/plain": [
       "Net_adaptive_pool_Small(\n",
       "  (conv1): Conv2d(3, 10, kernel_size=(3, 3), stride=(1, 1), padding=(1, 1))\n",
       "  (pool): MaxPool2d(kernel_size=2, stride=2, padding=0, dilation=1, ceil_mode=False)\n",
       "  (conv2): Conv2d(10, 10, kernel_size=(3, 3), stride=(1, 1))\n",
       "  (adaptive_mp2d): AdaptiveMaxPool2d(output_size=(1, 1))\n",
       "  (fc1): Linear(in_features=10, out_features=10, bias=True)\n",
       "  (fc2): Linear(in_features=50, out_features=10, bias=True)\n",
       ")"
      ]
     },
     "execution_count": 54,
     "metadata": {},
     "output_type": "execute_result"
    },
    {
     "data": {
      "text/plain": [
       "Net_adaptive_pool_Small(\n",
       "  (conv1): Conv2d(3, 10, kernel_size=(3, 3), stride=(1, 1), padding=(1, 1))\n",
       "  (pool): MaxPool2d(kernel_size=2, stride=2, padding=0, dilation=1, ceil_mode=False)\n",
       "  (conv2): Conv2d(10, 10, kernel_size=(3, 3), stride=(1, 1))\n",
       "  (adaptive_mp2d): AdaptiveMaxPool2d(output_size=(1, 1))\n",
       "  (fc1): Linear(in_features=10, out_features=10, bias=True)\n",
       "  (fc2): Linear(in_features=50, out_features=10, bias=True)\n",
       ")"
      ]
     },
     "execution_count": 54,
     "metadata": {},
     "output_type": "execute_result"
    },
    {
     "name": "stdout",
     "output_type": "stream",
     "text": [
      "type of net is <class 'train.Net_adaptive_pool_Small'>\n",
      "\n",
      "Files already downloaded and verified\n",
      "Files already downloaded and verified\n",
      "Training loss: 0.571  accuracy: 0.114 Testing loss: 0.524  accuracy: 0.187\n",
      "Training loss: 0.476  accuracy: 0.267 Testing loss: 0.438  accuracy: 0.330\n",
      "Training loss: 0.436  accuracy: 0.334 Testing loss: 0.421  accuracy: 0.353\n",
      "Training loss: 0.424  accuracy: 0.353 Testing loss: 0.419  accuracy: 0.372\n",
      "Training loss: 0.418  accuracy: 0.363 Testing loss: 0.414  accuracy: 0.374\n",
      "Training loss: 0.414  accuracy: 0.371 Testing loss: 0.403  accuracy: 0.382\n",
      "Training loss: 0.411  accuracy: 0.377 Testing loss: 0.418  accuracy: 0.365\n",
      "Training loss: 0.409  accuracy: 0.380 Testing loss: 0.405  accuracy: 0.380\n",
      "Training loss: 0.407  accuracy: 0.390 Testing loss: 0.428  accuracy: 0.353\n",
      "Training loss: 0.404  accuracy: 0.390 Testing loss: 0.405  accuracy: 0.381\n",
      "Training loss: 0.404  accuracy: 0.393 Testing loss: 0.402  accuracy: 0.408\n"
     ]
    }
   ],
   "source": [
    "# Define a Loss function and optimizer\n",
    "# Let's use a Classification Cross-Entropy loss and SGD with momentum.\n",
    "import torch.optim as optim\n",
    "criterion = nn.CrossEntropyLoss()\n",
    "optimizer = optim.SGD(net.parameters(), lr=0.001, momentum=0.9)\n",
    "\n",
    "#train and test\n",
    "net.train()\n",
    "net.to(device)\n",
    "print(\"type of net is \" + str(type(net)) + \"\\n\")\n",
    "trn.train_test(net, criterion, optimizer,device, numEpochs = NUMB_EPOCHS, path =path)"
   ]
  },
  {
   "cell_type": "markdown",
   "metadata": {},
   "source": [
    "# Results\n",
    "Show graphs and stats here"
   ]
  },
  {
   "cell_type": "markdown",
   "metadata": {},
   "source": [
    "### Accuracy for each class in Test Set"
   ]
  },
  {
   "cell_type": "code",
   "execution_count": 28,
   "metadata": {},
   "outputs": [
    {
     "data": {
      "text/plain": [
       "Net_adaptive_pool(\n",
       "  (conv1): Conv2d(3, 10, kernel_size=(3, 3), stride=(1, 1), padding=(1, 1))\n",
       "  (pool): MaxPool2d(kernel_size=2, stride=2, padding=0, dilation=1, ceil_mode=False)\n",
       "  (conv2): Conv2d(10, 10, kernel_size=(3, 3), stride=(1, 1))\n",
       "  (adaptive_mp2d): AdaptiveMaxPool2d(output_size=(5, 5))\n",
       "  (fc1): Linear(in_features=250, out_features=50, bias=True)\n",
       "  (fc2): Linear(in_features=50, out_features=10, bias=True)\n",
       ")"
      ]
     },
     "execution_count": 28,
     "metadata": {},
     "output_type": "execute_result"
    },
    {
     "name": "stdout",
     "output_type": "stream",
     "text": [
      "type of net is <class 'train.Net_adaptive_pool'>\n",
      "\n",
      "Files already downloaded and verified\n",
      "Files already downloaded and verified\n",
      "Accuracy of plane : 59 %\n",
      "Accuracy of   car : 75 %\n",
      "Accuracy of  bird : 53 %\n",
      "Accuracy of   cat : 37 %\n",
      "Accuracy of  deer : 65 %\n",
      "Accuracy of   dog : 38 %\n",
      "Accuracy of  frog : 78 %\n",
      "Accuracy of horse : 67 %\n",
      "Accuracy of  ship : 77 %\n",
      "Accuracy of truck : 67 %\n"
     ]
    }
   ],
   "source": [
    "net.eval()  # going to eval\n",
    "\n",
    "print(\"type of net is \" + str(type(net)) + \"\\n\")\n",
    "trn.check_each_class_accuracy(net, device)"
   ]
  },
  {
   "cell_type": "markdown",
   "metadata": {},
   "source": [
    "### Accuracy on unseen class instances"
   ]
  },
  {
   "cell_type": "code",
   "execution_count": 45,
   "metadata": {},
   "outputs": [],
   "source": [
    "#set up network\n",
    "device = \"cpu\"\n",
    "net.to(device);# ; keeps this statement from priniting out the net config\n",
    "net.eval();  # going to eval\n",
    "\n",
    "filelist = glob(s.where_diff_sized_images_are + \"*.jpg\");"
   ]
  },
  {
   "cell_type": "markdown",
   "metadata": {},
   "source": [
    "#### Fullsize Images"
   ]
  },
  {
   "cell_type": "code",
   "execution_count": 43,
   "metadata": {},
   "outputs": [
    {
     "name": "stdout",
     "output_type": "stream",
     "text": [
      "Evaluate original size\n",
      "for image ./diff_sized/deer1.jpg the network predicted frog\n",
      "for image ./diff_sized/deer2.jpg the network predicted bird\n",
      "for image ./diff_sized/dog1.jpg the network predicted bird\n",
      "for image ./diff_sized/dog2.jpg the network predicted bird\n",
      "for image ./diff_sized/cat2.jpg the network predicted deer\n",
      "for image ./diff_sized/car2.jpg the network predicted car\n",
      "for image ./diff_sized/cat1.jpg the network predicted frog\n",
      "for image ./diff_sized/ship2.jpg the network predicted cat\n",
      "for image ./diff_sized/plane2.jpg the network predicted plane\n",
      "for image ./diff_sized/horse1.jpg the network predicted dog\n",
      "for image ./diff_sized/bird2.jpg the network predicted bird\n",
      "for image ./diff_sized/ship1.jpg the network predicted ship\n",
      "for image ./diff_sized/horse2.jpg the network predicted horse\n",
      "\n",
      "Inference took 1.280994176864624 seconds\n",
      "Network accuracy = 0.38461538461538464\n",
      "\n"
     ]
    }
   ],
   "source": [
    "print(\"Evaluate original size\");\n",
    "from test_on_diff_sized_files import evaluate_dir;\n",
    "evaluate_dir(filelist,net);"
   ]
  },
  {
   "cell_type": "markdown",
   "metadata": {},
   "source": [
    "#### 32x32 images (reduced from fullsize)\n",
    "This is the size the network was trained on, this should be lower than above since we are losing information when downsampling the image"
   ]
  },
  {
   "cell_type": "code",
   "execution_count": 48,
   "metadata": {},
   "outputs": [
    {
     "name": "stdout",
     "output_type": "stream",
     "text": [
      "for image ./diff_sized/deer1.jpg the network predicted deer\n",
      "for image ./diff_sized/deer2.jpg the network predicted frog\n",
      "for image ./diff_sized/dog1.jpg the network predicted bird\n",
      "for image ./diff_sized/dog2.jpg the network predicted dog\n",
      "for image ./diff_sized/cat2.jpg the network predicted bird\n",
      "for image ./diff_sized/car2.jpg the network predicted car\n",
      "for image ./diff_sized/cat1.jpg the network predicted bird\n",
      "for image ./diff_sized/ship2.jpg the network predicted ship\n",
      "for image ./diff_sized/plane2.jpg the network predicted plane\n",
      "for image ./diff_sized/horse1.jpg the network predicted horse\n",
      "for image ./diff_sized/bird2.jpg the network predicted bird\n",
      "for image ./diff_sized/ship1.jpg the network predicted ship\n",
      "for image ./diff_sized/horse2.jpg the network predicted horse\n",
      "\n",
      "Inference took 0.061098575592041016 seconds\n",
      "Network accuracy = 0.6923076923076923\n",
      "\n"
     ]
    }
   ],
   "source": [
    "# Shrink images to 32,32 (orig cifar10 size) and evaluate\n",
    "# accuracy should fall since we lost information when shrinking images\n",
    "evaluate_dir(filelist, net, size = (32,32))"
   ]
  },
  {
   "cell_type": "markdown",
   "metadata": {},
   "source": [
    "# Conclusions and Next Steps\n",
    "Summarize findings here"
   ]
  },
  {
   "cell_type": "code",
   "execution_count": null,
   "metadata": {},
   "outputs": [],
   "source": []
  }
 ],
 "metadata": {
  "kernelspec": {
   "display_name": "Python 3",
   "language": "python",
   "name": "python3"
  },
  "language_info": {
   "codemirror_mode": {
    "name": "ipython",
    "version": 3
   },
   "file_extension": ".py",
   "mimetype": "text/x-python",
   "name": "python",
   "nbconvert_exporter": "python",
   "pygments_lexer": "ipython3",
   "version": "3.6.6"
  },
  "toc": {
   "base_numbering": 1,
   "nav_menu": {},
   "number_sections": true,
   "sideBar": true,
   "skip_h1_title": false,
   "title_cell": "Table of Contents",
   "title_sidebar": "Contents",
   "toc_cell": false,
   "toc_position": {},
   "toc_section_display": true,
   "toc_window_display": true
  },
  "varInspector": {
   "cols": {
    "lenName": 16,
    "lenType": 16,
    "lenVar": 40
   },
   "kernels_config": {
    "python": {
     "delete_cmd_postfix": "",
     "delete_cmd_prefix": "del ",
     "library": "var_list.py",
     "varRefreshCmd": "print(var_dic_list())"
    },
    "r": {
     "delete_cmd_postfix": ") ",
     "delete_cmd_prefix": "rm(",
     "library": "var_list.r",
     "varRefreshCmd": "cat(var_dic_list()) "
    }
   },
   "types_to_exclude": [
    "module",
    "function",
    "builtin_function_or_method",
    "instance",
    "_Feature"
   ],
   "window_display": true
  }
 },
 "nbformat": 4,
 "nbformat_minor": 2
}
